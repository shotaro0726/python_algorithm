{
 "cells": [
  {
   "cell_type": "code",
   "execution_count": 1,
   "metadata": {},
   "outputs": [],
   "source": [
    "cap1 = ['F','F','B','B','B','F','B','B','B','F','F','B','F']\n",
    "cap2 = ['F','F','B','B','B','F','B','B','B','F','F','F','F']"
   ]
  },
  {
   "cell_type": "code",
   "execution_count": 2,
   "metadata": {},
   "outputs": [],
   "source": [
    "def pleaseConform(caps):\n",
    "    start = forward = backward = 0\n",
    "    intervals = []\n",
    "    for i in range(-1,len(caps)):\n",
    "        if caps[start] != caps[i]:\n",
    "            intervals.append((start, i-1, caps[start]))\n",
    "            if caps[start] == 'F':\n",
    "                forward += 1\n",
    "            else:\n",
    "                backward += 1\n",
    "            start = i\n",
    "    intervals.append((start,len(caps)-1, caps[start]))\n",
    "    if caps[start] == 'F':\n",
    "        forward += 1\n",
    "    else:\n",
    "        backward += 1\n",
    "    if forward < backward:\n",
    "        flip = 'F'\n",
    "    else:\n",
    "        flip = 'B'\n",
    "    for t in intervals:\n",
    "        if t[2] == flip:\n",
    "            print('People in positions',t[0],'through',t[1],'flip your caps')"
   ]
  },
  {
   "cell_type": "code",
   "execution_count": 4,
   "metadata": {},
   "outputs": [],
   "source": [
    "pleaseConform('F')"
   ]
  },
  {
   "cell_type": "code",
   "execution_count": 5,
   "metadata": {},
   "outputs": [],
   "source": [
    "pleaseConform('B')"
   ]
  },
  {
   "cell_type": "code",
   "execution_count": null,
   "metadata": {},
   "outputs": [],
   "source": []
  }
 ],
 "metadata": {
  "kernelspec": {
   "display_name": "Python 3",
   "language": "python",
   "name": "python3"
  },
  "language_info": {
   "codemirror_mode": {
    "name": "ipython",
    "version": 3
   },
   "file_extension": ".py",
   "mimetype": "text/x-python",
   "name": "python",
   "nbconvert_exporter": "python",
   "pygments_lexer": "ipython3",
   "version": "3.7.4"
  }
 },
 "nbformat": 4,
 "nbformat_minor": 4
}
